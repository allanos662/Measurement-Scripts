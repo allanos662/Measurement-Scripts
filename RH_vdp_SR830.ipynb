{
 "cells": [
  {
   "cell_type": "code",
   "execution_count": null,
   "id": "57c0b0ec",
   "metadata": {},
   "outputs": [],
   "source": [
    "import qcodes as qc\n",
    "import numpy as np\n",
    "from time import sleep\n",
    "from qcodes.instrument_drivers.stanford_research.SR830 import SR830\n",
    "from fal_lab_drivers import lia_setup, vdparduino\n",
    "from fal_lab_drivers.ppms_driver_working import QdInstrument\n",
    "import yaml\n",
    "import datetime as dt\n",
    "\n",
    "#read in measurment parameters\n",
    "with open('input_files/field_sweep.yaml', 'r') as f:\n",
    "    params = yaml.load(f, Loader=yaml.FullLoader)\n",
    "date = dt.datetimee.now()\n",
    "\n",
    "#connect to vdp arduino switch\n",
    "vanderpaw = ard('COM4', 0.1)\n",
    "time.sleep(5) #delay to open arduino\n",
    "\n",
    "#configure data file\n",
    "data_file = open(data/params['DATA_FILE']+'\\n', 'w')\n",
    "data_file.write(params['SAMPLE']+'\\n')\n",
    "data_file.write(f'{date.year}-{date.month}-{date.day}')\n",
    "\n",
    "data_file.write('LOCK-IN PARAMETERS'+'\\n')\n",
    "for key in params['LIA']: #record LIA parameters in datafile\n",
    "    data_file.write(key+': 'str(params['LIA'][key])+'\\n')\n",
    "\n",
    "data_file.write('T_PPMS(K)\\t H_PPMS(Oe)\\tVDP_config\\tLIA_X(V)\\tLIA_Y(V)\\tLIA_PHASE\\n')\n",
    "\n"
   ]
  },
  {
   "cell_type": "code",
   "execution_count": null,
   "id": "7b312cf6",
   "metadata": {},
   "outputs": [],
   "source": [
    "#connect to dynacool, lock in, set vdp configs\n",
    "dynacool = QdInstrument('Dynacool')\n",
    "\n",
    "sr = SR830('lockin', 'GPIB0::'+str(params['LIA']['ADDRESS'])+'::INSTR')\n",
    "setup_lia(sr, params['LIA'])\n",
    "\n",
    "active_switches = params['VDP'] #desired vdp configuration\n",
    "\n",
    "#Pre-Measurement\n",
    "print('Measurment Parameters':)\n",
    "print(params)\n",
    "while(1):\n",
    "    #print settings\n",
    "    go = input('ready to measure[y/n]? : ')\n",
    "    if go == 'y':\n",
    "        break\n",
    "    if go == 'n':\n",
    "        quit()    "
   ]
  },
  {
   "cell_type": "code",
   "execution_count": null,
   "id": "e626a953",
   "metadata": {},
   "outputs": [],
   "source": [
    "#Measurment Loop\n",
    "\n",
    "#Go to starting values\n",
    "dynacool.setTemperature(params['T_START'], params['QUICK_RAMP_TEMP'])\n",
    "dynacool.setField(params['H_START'], params['QUICK_RAMP_FIELD'])\n",
    "print(\"ramping to starting temperature and field setpoints...\")\n",
    "\n",
    "waitForField()\n",
    "waitForTemperature()\n",
    "\n",
    "print(f\"holding for additional settling time: {params['SETTLE']} mins\")\n",
    "time.sleep(params['SETTLE'])\n",
    "\n",
    "#Measure\n",
    "dynacool.setField(params['H_FINAL'], params['H_RAMP_MEASURE'])\n",
    "while(1):\n",
    "    for config in active_switches:\n",
    "        vanderpauw.switch(config) #changes the vanderpaw config \n",
    "        time.sleep(params['DELAY']) #waits for set delay before recording\n",
    "        temp = dynacool.getTemperature() #gets Temp\n",
    "        H = dynacool.getField() #gets field\n",
    "\n",
    "        timenow = dt.datetime.now() #gets time\n",
    "        values = sr.snap('x', 'y', 'phase') #measured values from LIA\n",
    "\n",
    "        data_file.write(f'{timenow.hour}:{timenow.minute}:{timenow.second}\\t{temp}\\t{H}\\t{config}\\t{values[0]}\\t{values[1]}\\t{values[2]}\\n')\n",
    "        if H == params['H_FINAL']:\n",
    "            break"
   ]
  }
 ],
 "metadata": {
  "kernelspec": {
   "display_name": "Python 3 (ipykernel)",
   "language": "python",
   "name": "python3"
  },
  "language_info": {
   "codemirror_mode": {
    "name": "ipython",
    "version": 3
   },
   "file_extension": ".py",
   "mimetype": "text/x-python",
   "name": "python",
   "nbconvert_exporter": "python",
   "pygments_lexer": "ipython3",
   "version": "3.9.7"
  }
 },
 "nbformat": 4,
 "nbformat_minor": 5
}
